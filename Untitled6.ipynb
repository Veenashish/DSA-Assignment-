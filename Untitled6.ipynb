{
  "nbformat": 4,
  "nbformat_minor": 0,
  "metadata": {
    "colab": {
      "provenance": [],
      "authorship_tag": "ABX9TyMo81k5rA4mXhrmAODeDtF0",
      "include_colab_link": true
    },
    "kernelspec": {
      "name": "python3",
      "display_name": "Python 3"
    },
    "language_info": {
      "name": "python"
    }
  },
  "cells": [
    {
      "cell_type": "markdown",
      "metadata": {
        "id": "view-in-github",
        "colab_type": "text"
      },
      "source": [
        "<a href=\"https://colab.research.google.com/github/Veenashish/DSA-Assignment-/blob/main/Untitled6.ipynb\" target=\"_parent\"><img src=\"https://colab.research.google.com/assets/colab-badge.svg\" alt=\"Open In Colab\"/></a>"
      ]
    },
    {
      "cell_type": "code",
      "execution_count": null,
      "metadata": {
        "id": "z3nFujh9TQRg"
      },
      "outputs": [],
      "source": [
        "\n",
        "# You are given the first name and lastname of a person on two different lines. Your task is to read them and print the Following:\n",
        "# Output example:Hello Albert Einsteen! You just delved into phython.\n"
      ]
    },
    {
      "cell_type": "code",
      "source": [
        "Name1=\"William\"\n",
        "Name2=\"Shakespeare!\"\n",
        "print(\"Hello\",Name1,Name2,\"You just delved into python\")"
      ],
      "metadata": {
        "colab": {
          "base_uri": "https://localhost:8080/"
        },
        "id": "rCNao9bBTxL1",
        "outputId": "635f31a8-e6dd-4f10-b234-f93c386f120a"
      },
      "execution_count": 2,
      "outputs": [
        {
          "output_type": "stream",
          "name": "stdout",
          "text": [
            "Hello William Shakespeare! You just delved into python\n"
          ]
        }
      ]
    }
  ]
}